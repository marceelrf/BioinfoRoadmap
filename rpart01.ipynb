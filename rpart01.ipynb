{
  "cells": [
    {
      "cell_type": "raw",
      "metadata": {},
      "source": [
        "---\n",
        "title: \"R part 01\"\n",
        "format: live-hmtl\n",
        "---"
      ],
      "id": "0fde6ee4"
    },
    {
      "cell_type": "markdown",
      "metadata": {},
      "source": [
        "{{< include ./_extensions/r-wasm/live/_knitr.qmd >}}\n",
        "\n",
        "```{webr}\n",
        "#| setup: true\n",
        "#| exercise: ex_2\n",
        "foo <- 1\n",
        "bar <- 2\n",
        "baz <- 3\n",
        "```\n",
        "\n",
        "```{webr}\n",
        "#| exercise: ex_2\n",
        "foo + bar + baz + ______\n",
        "```"
      ],
      "id": "b46048a5"
    }
  ],
  "metadata": {
    "kernelspec": {
      "display_name": "Python 3",
      "language": "python",
      "name": "python3"
    }
  },
  "nbformat": 4,
  "nbformat_minor": 5
}